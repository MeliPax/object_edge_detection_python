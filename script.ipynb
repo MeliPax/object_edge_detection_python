{
 "cells": [
  {
   "cell_type": "code",
   "execution_count": 1,
   "id": "50c17218",
   "metadata": {},
   "outputs": [],
   "source": [
    "import sys\n",
    "from PIL import Image\n",
    "import numpy as np\n",
    "import math\n",
    "\n"
   ]
  },
  {
   "cell_type": "code",
   "execution_count": 12,
   "id": "78339087",
   "metadata": {},
   "outputs": [
    {
     "ename": "FileNotFoundError",
     "evalue": "[Errno 2] No such file or directory: '-f'",
     "output_type": "error",
     "traceback": [
      "\u001b[1;31m---------------------------------------------------------------------------\u001b[0m",
      "\u001b[1;31mFileNotFoundError\u001b[0m                         Traceback (most recent call last)",
      "\u001b[1;32m<ipython-input-12-4f8ec3923339>\u001b[0m in \u001b[0;36m<module>\u001b[1;34m\u001b[0m\n\u001b[0;32m      5\u001b[0m \u001b[1;31m#     sys.exit()\u001b[0m\u001b[1;33m\u001b[0m\u001b[1;33m\u001b[0m\u001b[1;33m\u001b[0m\u001b[0m\n\u001b[0;32m      6\u001b[0m \u001b[1;33m\u001b[0m\u001b[0m\n\u001b[1;32m----> 7\u001b[1;33m \u001b[0mpil_image_rgb\u001b[0m \u001b[1;33m=\u001b[0m \u001b[0mImage\u001b[0m\u001b[1;33m.\u001b[0m\u001b[0mopen\u001b[0m\u001b[1;33m(\u001b[0m \u001b[0msys\u001b[0m\u001b[1;33m.\u001b[0m\u001b[0margv\u001b[0m\u001b[1;33m[\u001b[0m\u001b[1;36m1\u001b[0m\u001b[1;33m]\u001b[0m \u001b[1;33m)\u001b[0m\u001b[1;33m\u001b[0m\u001b[1;33m\u001b[0m\u001b[0m\n\u001b[0m\u001b[0;32m      8\u001b[0m \u001b[0mimage_rgb\u001b[0m \u001b[1;33m=\u001b[0m \u001b[0mnp\u001b[0m\u001b[1;33m.\u001b[0m\u001b[0masarray\u001b[0m\u001b[1;33m(\u001b[0m\u001b[0mpil_image_rgb\u001b[0m\u001b[1;33m,\u001b[0m \u001b[0mnp\u001b[0m\u001b[1;33m.\u001b[0m\u001b[0mfloat\u001b[0m\u001b[1;33m)\u001b[0m\u001b[1;33m\u001b[0m\u001b[1;33m\u001b[0m\u001b[0m\n\u001b[0;32m      9\u001b[0m \u001b[0mImage\u001b[0m\u001b[1;33m.\u001b[0m\u001b[0mfromarray\u001b[0m\u001b[1;33m(\u001b[0m\u001b[0mimage_rgb\u001b[0m\u001b[1;33m.\u001b[0m\u001b[0mastype\u001b[0m\u001b[1;33m(\u001b[0m\u001b[0mnp\u001b[0m\u001b[1;33m.\u001b[0m\u001b[0muint8\u001b[0m\u001b[1;33m)\u001b[0m\u001b[1;33m)\u001b[0m\u001b[1;33m.\u001b[0m\u001b[0msave\u001b[0m\u001b[1;33m(\u001b[0m\u001b[1;34m\"verify_image.jpg\"\u001b[0m\u001b[1;33m)\u001b[0m\u001b[1;33m\u001b[0m\u001b[1;33m\u001b[0m\u001b[0m\n",
      "\u001b[1;32m~\\anaconda3\\lib\\site-packages\\PIL\\Image.py\u001b[0m in \u001b[0;36mopen\u001b[1;34m(fp, mode, formats)\u001b[0m\n\u001b[0;32m   2910\u001b[0m \u001b[1;33m\u001b[0m\u001b[0m\n\u001b[0;32m   2911\u001b[0m     \u001b[1;32mif\u001b[0m \u001b[0mfilename\u001b[0m\u001b[1;33m:\u001b[0m\u001b[1;33m\u001b[0m\u001b[1;33m\u001b[0m\u001b[0m\n\u001b[1;32m-> 2912\u001b[1;33m         \u001b[0mfp\u001b[0m \u001b[1;33m=\u001b[0m \u001b[0mbuiltins\u001b[0m\u001b[1;33m.\u001b[0m\u001b[0mopen\u001b[0m\u001b[1;33m(\u001b[0m\u001b[0mfilename\u001b[0m\u001b[1;33m,\u001b[0m \u001b[1;34m\"rb\"\u001b[0m\u001b[1;33m)\u001b[0m\u001b[1;33m\u001b[0m\u001b[1;33m\u001b[0m\u001b[0m\n\u001b[0m\u001b[0;32m   2913\u001b[0m         \u001b[0mexclusive_fp\u001b[0m \u001b[1;33m=\u001b[0m \u001b[1;32mTrue\u001b[0m\u001b[1;33m\u001b[0m\u001b[1;33m\u001b[0m\u001b[0m\n\u001b[0;32m   2914\u001b[0m \u001b[1;33m\u001b[0m\u001b[0m\n",
      "\u001b[1;31mFileNotFoundError\u001b[0m: [Errno 2] No such file or directory: '-f'"
     ]
    }
   ],
   "source": [
    "# if len(sys.argv) !=4:\n",
    "#     print(\"usage is %s image_in image_out thresh\" % (sys.argv[0]))\n",
    "#     print(\"           thresh is btn 0 and 255\")\n",
    "#     print(\"           small values make detection more sensitive\")\n",
    "#     sys.exit()\n",
    "\n",
    "pil_image_rgb = Image.open( sys.argv[1] )\n",
    "image_rgb = np.asarray(pil_image_rgb, np.float)\n",
    "Image.fromarray(image_rgb.astype(np.uint8)).save(\"verify_image.jpg\")\n",
    "\n",
    "pil_image_bw = pil_image_rgb.convert('L')\n",
    "pil_image_bw.show()\n",
    "\n",
    "image_bw = np.asarray(pil_image_bw, np.float)\n",
    "rows = image_bw.shape[0]\n",
    "cols = image_bw.shape[1]\n",
    "\n",
    "thresh = float( sys.argv[3] )\n",
    "\n",
    "print(f\" rows={rows}; cols={cols}; thresh ={thresh}\")\n",
    "\n",
    "image_out = np.zero( (rows,cols), np.float)\n",
    "\n",
    "\n",
    "# Horizontal\n",
    "\n",
    "for i in range(1, rows-1):\n",
    "    image_out[i,1:-1] = (\n",
    "            (image_bw[i-1, 2:] - image_bw[i-1,:-2]) + \\\n",
    "            (image_bw[i, 2:] - image_bw[i,:-2]) *2 +\\\n",
    "            (image_bw[i+1, 2:] - image_bw[i+1,:-2])) **2\n",
    "    \n",
    "\n",
    "# Vertical    \n",
    "for j in range(1, cols-1):\n",
    "    image_out[1:-1,j] += (\n",
    "                        (image_bw[2:, j-1] - image_bw[:-2, j-1])+ \\\n",
    "                        (image_bw[2:, j] - image_bw[-2, j]) *2 +\\\n",
    "                        (image_bw[2:, j+1] - image_bw[:-2, j])) **2\n",
    "\n",
    "image_out = np.sqrt( image_out )\n",
    "maxval = np.amax( image_out )\n",
    "print (f\"maxval = {maxval}\")\n",
    "image_out = 254 * image_out / maxval\n",
    "image_out = np.where( image_out < thresh, 0, 255)\n",
    "image_out = image_out.astpe( np.uint8 )\n",
    "a = image.formatarray(image_out)\n",
    "a.save(sys.argv[2])\n",
    "a.show()"
   ]
  }
 ],
 "metadata": {
  "kernelspec": {
   "display_name": "Python 3",
   "language": "python",
   "name": "python3"
  },
  "language_info": {
   "codemirror_mode": {
    "name": "ipython",
    "version": 3
   },
   "file_extension": ".py",
   "mimetype": "text/x-python",
   "name": "python",
   "nbconvert_exporter": "python",
   "pygments_lexer": "ipython3",
   "version": "3.8.8"
  }
 },
 "nbformat": 4,
 "nbformat_minor": 5
}
